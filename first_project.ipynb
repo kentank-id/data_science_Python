{
  "nbformat": 4,
  "nbformat_minor": 0,
  "metadata": {
    "colab": {
      "name": "Untitled0.ipynb",
      "provenance": [],
      "authorship_tag": "ABX9TyMqAxu3AL+7s7ebuLKwxc3+",
      "include_colab_link": true
    },
    "kernelspec": {
      "name": "python3",
      "display_name": "Python 3"
    },
    "language_info": {
      "name": "python"
    },
    "accelerator": "GPU"
  },
  "cells": [
    {
      "cell_type": "markdown",
      "metadata": {
        "id": "view-in-github",
        "colab_type": "text"
      },
      "source": [
        "<a href=\"https://colab.research.google.com/github/kentank-id/data_science_Python/blob/main/first_project.ipynb\" target=\"_parent\"><img src=\"https://colab.research.google.com/assets/colab-badge.svg\" alt=\"Open In Colab\"/></a>"
      ]
    },
    {
      "cell_type": "code",
      "metadata": {
        "colab": {
          "base_uri": "https://localhost:8080/",
          "height": 229
        },
        "id": "fBJPCF2sC2NM",
        "outputId": "f1f7319e-b3dd-4eac-80aa-0d821725c5b5"
      },
      "source": [
        "import pandas as pd\n",
        "from matplotlib import pyplot as plt \n",
        "\n",
        "plt.rcdefaults()\n",
        "#plt.style.use('fivethirtyeight')\n",
        "plt.xkcd()\n",
        "\n",
        "data = pd.read_csv('/content/sample_data/selectedsea.csv')\n",
        "\n",
        "daycount = data['Day']\n",
        "MY = data['Malaysia']\n",
        "ID = data['Indonesia']\n",
        "TH = data['Thailand']\n",
        "SG = data['Singapore']\n",
        "PH = data['Philippines']\n",
        "BR = data['Brunei']\n",
        "\n",
        "\n",
        "plt.plot(daycount, MY, label='Malaysia')\n",
        "plt.plot(daycount, ID, label='Indonesia')\n",
        "plt.plot(daycount, TH, label='Thailand')\n",
        "plt.plot(daycount, SG, label='Singapore')\n",
        "plt.plot(daycount, PH, label='Philippines')\n",
        "plt.plot(daycount, BR, label='Brunei')\n",
        "\n",
        "plt.legend()\n",
        "plt.title('Coronavirus Infection Selected SEA Countries')\n",
        "plt.ylabel('Number of Infection')\n",
        "plt.xlabel('Number of Days')\n",
        "\n",
        "plt.savefig('plot.png')\n",
        "\n",
        "plt.show()"
      ],
      "execution_count": 17,
      "outputs": [
        {
          "output_type": "error",
          "ename": "AttributeError",
          "evalue": "ignored",
          "traceback": [
            "\u001b[0;31m---------------------------------------------------------------------------\u001b[0m",
            "\u001b[0;31mAttributeError\u001b[0m                            Traceback (most recent call last)",
            "\u001b[0;32m<ipython-input-17-5d9578e2482e>\u001b[0m in \u001b[0;36m<module>\u001b[0;34m()\u001b[0m\n\u001b[1;32m     17\u001b[0m \u001b[0;34m\u001b[0m\u001b[0m\n\u001b[1;32m     18\u001b[0m \u001b[0;34m\u001b[0m\u001b[0m\n\u001b[0;32m---> 19\u001b[0;31m \u001b[0mplt\u001b[0m\u001b[0;34m.\u001b[0m\u001b[0mplot_image_and_patch\u001b[0m\u001b[0;34m(\u001b[0m\u001b[0mdaycount\u001b[0m\u001b[0;34m,\u001b[0m \u001b[0mMY\u001b[0m\u001b[0;34m,\u001b[0m \u001b[0mlabel\u001b[0m\u001b[0;34m=\u001b[0m\u001b[0;34m'Malaysia'\u001b[0m\u001b[0;34m)\u001b[0m\u001b[0;34m\u001b[0m\u001b[0;34m\u001b[0m\u001b[0m\n\u001b[0m\u001b[1;32m     20\u001b[0m \u001b[0mplt\u001b[0m\u001b[0;34m.\u001b[0m\u001b[0mplot_image_and_patch\u001b[0m\u001b[0;34m(\u001b[0m\u001b[0mdaycount\u001b[0m\u001b[0;34m,\u001b[0m \u001b[0mID\u001b[0m\u001b[0;34m,\u001b[0m \u001b[0mlabel\u001b[0m\u001b[0;34m=\u001b[0m\u001b[0;34m'Indonesia'\u001b[0m\u001b[0;34m)\u001b[0m\u001b[0;34m\u001b[0m\u001b[0;34m\u001b[0m\u001b[0m\n\u001b[1;32m     21\u001b[0m \u001b[0mplt\u001b[0m\u001b[0;34m.\u001b[0m\u001b[0mplot_image_and_patch\u001b[0m\u001b[0;34m(\u001b[0m\u001b[0mdaycount\u001b[0m\u001b[0;34m,\u001b[0m \u001b[0mTH\u001b[0m\u001b[0;34m,\u001b[0m \u001b[0mlabel\u001b[0m\u001b[0;34m=\u001b[0m\u001b[0;34m'Thailand'\u001b[0m\u001b[0;34m)\u001b[0m\u001b[0;34m\u001b[0m\u001b[0;34m\u001b[0m\u001b[0m\n",
            "\u001b[0;31mAttributeError\u001b[0m: module 'matplotlib.pyplot' has no attribute 'plot_image_and_patch'"
          ]
        }
      ]
    },
    {
      "cell_type": "markdown",
      "metadata": {
        "id": "ZrSc5a5PKHgH"
      },
      "source": [
        "Done for first visualisation"
      ]
    }
  ]
}